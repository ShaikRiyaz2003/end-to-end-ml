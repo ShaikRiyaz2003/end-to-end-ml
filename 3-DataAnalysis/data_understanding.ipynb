{
 "cells": [
  {
   "cell_type": "code",
   "execution_count": 1,
   "metadata": {},
   "outputs": [],
   "source": [
    "#%pip install pandas"
   ]
  },
  {
   "cell_type": "code",
   "execution_count": 2,
   "metadata": {},
   "outputs": [
    {
     "name": "stderr",
     "output_type": "stream",
     "text": [
      "C:\\Users\\shaik\\AppData\\Local\\Temp\\ipykernel_6116\\4080736814.py:1: DeprecationWarning: \n",
      "Pyarrow will become a required dependency of pandas in the next major release of pandas (pandas 3.0),\n",
      "(to allow more performant data types, such as the Arrow string type, and better interoperability with other libraries)\n",
      "but was not found to be installed on your system.\n",
      "If this would cause problems for you,\n",
      "please provide us feedback at https://github.com/pandas-dev/pandas/issues/54466\n",
      "        \n",
      "  import pandas as pd\n"
     ]
    }
   ],
   "source": [
    "import pandas as pd"
   ]
  },
  {
   "cell_type": "code",
   "execution_count": 3,
   "metadata": {},
   "outputs": [],
   "source": [
    "df = pd.read_csv(\"./Applicant-details.csv\")"
   ]
  },
  {
   "cell_type": "code",
   "execution_count": 4,
   "metadata": {},
   "outputs": [
    {
     "data": {
      "text/plain": [
       "(100000, 13)"
      ]
     },
     "execution_count": 4,
     "metadata": {},
     "output_type": "execute_result"
    }
   ],
   "source": [
    "# size\n",
    "df.shape"
   ]
  },
  {
   "cell_type": "code",
   "execution_count": 5,
   "metadata": {},
   "outputs": [
    {
     "data": {
      "text/html": [
       "<div>\n",
       "<style scoped>\n",
       "    .dataframe tbody tr th:only-of-type {\n",
       "        vertical-align: middle;\n",
       "    }\n",
       "\n",
       "    .dataframe tbody tr th {\n",
       "        vertical-align: top;\n",
       "    }\n",
       "\n",
       "    .dataframe thead th {\n",
       "        text-align: right;\n",
       "    }\n",
       "</style>\n",
       "<table border=\"1\" class=\"dataframe\">\n",
       "  <thead>\n",
       "    <tr style=\"text-align: right;\">\n",
       "      <th></th>\n",
       "      <th>Applicant_ID</th>\n",
       "      <th>Annual_Income</th>\n",
       "      <th>Applicant_Age</th>\n",
       "      <th>Work_Experience</th>\n",
       "      <th>Marital_Status</th>\n",
       "      <th>House_Ownership</th>\n",
       "      <th>Vehicle_Ownership(car)</th>\n",
       "      <th>Occupation</th>\n",
       "      <th>Residence_City</th>\n",
       "      <th>Residence_State</th>\n",
       "      <th>Years_in_Current_Employment</th>\n",
       "      <th>Years_in_Current_Residence</th>\n",
       "      <th>Loan_Default_Risk</th>\n",
       "    </tr>\n",
       "  </thead>\n",
       "  <tbody>\n",
       "    <tr>\n",
       "      <th>59809</th>\n",
       "      <td>3885</td>\n",
       "      <td>4942553</td>\n",
       "      <td>33</td>\n",
       "      <td>1</td>\n",
       "      <td>single</td>\n",
       "      <td>rented</td>\n",
       "      <td>no</td>\n",
       "      <td>Librarian</td>\n",
       "      <td>Mahbubnagar</td>\n",
       "      <td>Telangana</td>\n",
       "      <td>1</td>\n",
       "      <td>11</td>\n",
       "      <td>0</td>\n",
       "    </tr>\n",
       "    <tr>\n",
       "      <th>33440</th>\n",
       "      <td>9223</td>\n",
       "      <td>5633121</td>\n",
       "      <td>47</td>\n",
       "      <td>11</td>\n",
       "      <td>single</td>\n",
       "      <td>rented</td>\n",
       "      <td>no</td>\n",
       "      <td>Consultant</td>\n",
       "      <td>Kamarhati</td>\n",
       "      <td>West_Bengal</td>\n",
       "      <td>4</td>\n",
       "      <td>14</td>\n",
       "      <td>0</td>\n",
       "    </tr>\n",
       "    <tr>\n",
       "      <th>78288</th>\n",
       "      <td>54988</td>\n",
       "      <td>1735303</td>\n",
       "      <td>41</td>\n",
       "      <td>7</td>\n",
       "      <td>single</td>\n",
       "      <td>rented</td>\n",
       "      <td>no</td>\n",
       "      <td>Biomedical_Engineer</td>\n",
       "      <td>North_Dumdum</td>\n",
       "      <td>West_Bengal</td>\n",
       "      <td>7</td>\n",
       "      <td>11</td>\n",
       "      <td>0</td>\n",
       "    </tr>\n",
       "    <tr>\n",
       "      <th>14526</th>\n",
       "      <td>63355</td>\n",
       "      <td>8397564</td>\n",
       "      <td>71</td>\n",
       "      <td>0</td>\n",
       "      <td>single</td>\n",
       "      <td>rented</td>\n",
       "      <td>no</td>\n",
       "      <td>Designer</td>\n",
       "      <td>Raebareli</td>\n",
       "      <td>Uttar_Pradesh</td>\n",
       "      <td>0</td>\n",
       "      <td>12</td>\n",
       "      <td>0</td>\n",
       "    </tr>\n",
       "    <tr>\n",
       "      <th>23443</th>\n",
       "      <td>66951</td>\n",
       "      <td>2593784</td>\n",
       "      <td>66</td>\n",
       "      <td>1</td>\n",
       "      <td>single</td>\n",
       "      <td>rented</td>\n",
       "      <td>yes</td>\n",
       "      <td>Official</td>\n",
       "      <td>Muzaffarpur</td>\n",
       "      <td>Bihar</td>\n",
       "      <td>1</td>\n",
       "      <td>11</td>\n",
       "      <td>1</td>\n",
       "    </tr>\n",
       "  </tbody>\n",
       "</table>\n",
       "</div>"
      ],
      "text/plain": [
       "       Applicant_ID  Annual_Income  Applicant_Age  Work_Experience  \\\n",
       "59809          3885        4942553             33                1   \n",
       "33440          9223        5633121             47               11   \n",
       "78288         54988        1735303             41                7   \n",
       "14526         63355        8397564             71                0   \n",
       "23443         66951        2593784             66                1   \n",
       "\n",
       "      Marital_Status House_Ownership Vehicle_Ownership(car)  \\\n",
       "59809         single          rented                     no   \n",
       "33440         single          rented                     no   \n",
       "78288         single          rented                     no   \n",
       "14526         single          rented                     no   \n",
       "23443         single          rented                    yes   \n",
       "\n",
       "                Occupation Residence_City Residence_State  \\\n",
       "59809            Librarian    Mahbubnagar       Telangana   \n",
       "33440           Consultant      Kamarhati     West_Bengal   \n",
       "78288  Biomedical_Engineer   North_Dumdum     West_Bengal   \n",
       "14526             Designer      Raebareli   Uttar_Pradesh   \n",
       "23443             Official    Muzaffarpur           Bihar   \n",
       "\n",
       "       Years_in_Current_Employment  Years_in_Current_Residence  \\\n",
       "59809                            1                          11   \n",
       "33440                            4                          14   \n",
       "78288                            7                          11   \n",
       "14526                            0                          12   \n",
       "23443                            1                          11   \n",
       "\n",
       "       Loan_Default_Risk  \n",
       "59809                  0  \n",
       "33440                  0  \n",
       "78288                  0  \n",
       "14526                  0  \n",
       "23443                  1  "
      ]
     },
     "execution_count": 5,
     "metadata": {},
     "output_type": "execute_result"
    }
   ],
   "source": [
    "# how it looks\n",
    "df.sample(5)"
   ]
  },
  {
   "cell_type": "code",
   "execution_count": 6,
   "metadata": {},
   "outputs": [
    {
     "name": "stdout",
     "output_type": "stream",
     "text": [
      "<class 'pandas.core.frame.DataFrame'>\n",
      "RangeIndex: 100000 entries, 0 to 99999\n",
      "Data columns (total 13 columns):\n",
      " #   Column                       Non-Null Count   Dtype \n",
      "---  ------                       --------------   ----- \n",
      " 0   Applicant_ID                 100000 non-null  int64 \n",
      " 1   Annual_Income                100000 non-null  int64 \n",
      " 2   Applicant_Age                100000 non-null  int64 \n",
      " 3   Work_Experience              100000 non-null  int64 \n",
      " 4   Marital_Status               100000 non-null  object\n",
      " 5   House_Ownership              100000 non-null  object\n",
      " 6   Vehicle_Ownership(car)       100000 non-null  object\n",
      " 7   Occupation                   100000 non-null  object\n",
      " 8   Residence_City               100000 non-null  object\n",
      " 9   Residence_State              100000 non-null  object\n",
      " 10  Years_in_Current_Employment  100000 non-null  int64 \n",
      " 11  Years_in_Current_Residence   100000 non-null  int64 \n",
      " 12  Loan_Default_Risk            100000 non-null  int64 \n",
      "dtypes: int64(7), object(6)\n",
      "memory usage: 9.9+ MB\n"
     ]
    }
   ],
   "source": [
    "# columns types\n",
    "df.info()"
   ]
  },
  {
   "cell_type": "code",
   "execution_count": 7,
   "metadata": {},
   "outputs": [],
   "source": [
    "# in the above age can be converted to integer"
   ]
  },
  {
   "cell_type": "code",
   "execution_count": 8,
   "metadata": {},
   "outputs": [
    {
     "data": {
      "text/plain": [
       "Applicant_ID                   0\n",
       "Annual_Income                  0\n",
       "Applicant_Age                  0\n",
       "Work_Experience                0\n",
       "Marital_Status                 0\n",
       "House_Ownership                0\n",
       "Vehicle_Ownership(car)         0\n",
       "Occupation                     0\n",
       "Residence_City                 0\n",
       "Residence_State                0\n",
       "Years_in_Current_Employment    0\n",
       "Years_in_Current_Residence     0\n",
       "Loan_Default_Risk              0\n",
       "dtype: int64"
      ]
     },
     "execution_count": 8,
     "metadata": {},
     "output_type": "execute_result"
    }
   ],
   "source": [
    "# missing values\n",
    "\n",
    "df.isnull().sum()"
   ]
  },
  {
   "cell_type": "code",
   "execution_count": 9,
   "metadata": {},
   "outputs": [
    {
     "data": {
      "text/html": [
       "<div>\n",
       "<style scoped>\n",
       "    .dataframe tbody tr th:only-of-type {\n",
       "        vertical-align: middle;\n",
       "    }\n",
       "\n",
       "    .dataframe tbody tr th {\n",
       "        vertical-align: top;\n",
       "    }\n",
       "\n",
       "    .dataframe thead th {\n",
       "        text-align: right;\n",
       "    }\n",
       "</style>\n",
       "<table border=\"1\" class=\"dataframe\">\n",
       "  <thead>\n",
       "    <tr style=\"text-align: right;\">\n",
       "      <th></th>\n",
       "      <th>Applicant_ID</th>\n",
       "      <th>Annual_Income</th>\n",
       "      <th>Applicant_Age</th>\n",
       "      <th>Work_Experience</th>\n",
       "      <th>Years_in_Current_Employment</th>\n",
       "      <th>Years_in_Current_Residence</th>\n",
       "      <th>Loan_Default_Risk</th>\n",
       "    </tr>\n",
       "  </thead>\n",
       "  <tbody>\n",
       "    <tr>\n",
       "      <th>count</th>\n",
       "      <td>100000.000000</td>\n",
       "      <td>1.000000e+05</td>\n",
       "      <td>100000.000000</td>\n",
       "      <td>100000.000000</td>\n",
       "      <td>100000.000000</td>\n",
       "      <td>100000.000000</td>\n",
       "      <td>100000.000000</td>\n",
       "    </tr>\n",
       "    <tr>\n",
       "      <th>mean</th>\n",
       "      <td>50000.500000</td>\n",
       "      <td>5.001617e+06</td>\n",
       "      <td>49.995400</td>\n",
       "      <td>10.110750</td>\n",
       "      <td>6.342990</td>\n",
       "      <td>11.996020</td>\n",
       "      <td>0.129970</td>\n",
       "    </tr>\n",
       "    <tr>\n",
       "      <th>std</th>\n",
       "      <td>28867.657797</td>\n",
       "      <td>2.876394e+06</td>\n",
       "      <td>17.056051</td>\n",
       "      <td>5.996007</td>\n",
       "      <td>3.644942</td>\n",
       "      <td>1.396826</td>\n",
       "      <td>0.336272</td>\n",
       "    </tr>\n",
       "    <tr>\n",
       "      <th>min</th>\n",
       "      <td>1.000000</td>\n",
       "      <td>1.031000e+04</td>\n",
       "      <td>21.000000</td>\n",
       "      <td>0.000000</td>\n",
       "      <td>0.000000</td>\n",
       "      <td>10.000000</td>\n",
       "      <td>0.000000</td>\n",
       "    </tr>\n",
       "    <tr>\n",
       "      <th>25%</th>\n",
       "      <td>25000.750000</td>\n",
       "      <td>2.507092e+06</td>\n",
       "      <td>35.000000</td>\n",
       "      <td>5.000000</td>\n",
       "      <td>4.000000</td>\n",
       "      <td>11.000000</td>\n",
       "      <td>0.000000</td>\n",
       "    </tr>\n",
       "    <tr>\n",
       "      <th>50%</th>\n",
       "      <td>50000.500000</td>\n",
       "      <td>5.004938e+06</td>\n",
       "      <td>50.000000</td>\n",
       "      <td>10.000000</td>\n",
       "      <td>6.000000</td>\n",
       "      <td>12.000000</td>\n",
       "      <td>0.000000</td>\n",
       "    </tr>\n",
       "    <tr>\n",
       "      <th>75%</th>\n",
       "      <td>75000.250000</td>\n",
       "      <td>7.477502e+06</td>\n",
       "      <td>65.000000</td>\n",
       "      <td>15.000000</td>\n",
       "      <td>9.000000</td>\n",
       "      <td>13.000000</td>\n",
       "      <td>0.000000</td>\n",
       "    </tr>\n",
       "    <tr>\n",
       "      <th>max</th>\n",
       "      <td>100000.000000</td>\n",
       "      <td>9.999180e+06</td>\n",
       "      <td>79.000000</td>\n",
       "      <td>20.000000</td>\n",
       "      <td>14.000000</td>\n",
       "      <td>14.000000</td>\n",
       "      <td>1.000000</td>\n",
       "    </tr>\n",
       "  </tbody>\n",
       "</table>\n",
       "</div>"
      ],
      "text/plain": [
       "        Applicant_ID  Annual_Income  Applicant_Age  Work_Experience  \\\n",
       "count  100000.000000   1.000000e+05  100000.000000    100000.000000   \n",
       "mean    50000.500000   5.001617e+06      49.995400        10.110750   \n",
       "std     28867.657797   2.876394e+06      17.056051         5.996007   \n",
       "min         1.000000   1.031000e+04      21.000000         0.000000   \n",
       "25%     25000.750000   2.507092e+06      35.000000         5.000000   \n",
       "50%     50000.500000   5.004938e+06      50.000000        10.000000   \n",
       "75%     75000.250000   7.477502e+06      65.000000        15.000000   \n",
       "max    100000.000000   9.999180e+06      79.000000        20.000000   \n",
       "\n",
       "       Years_in_Current_Employment  Years_in_Current_Residence  \\\n",
       "count                100000.000000               100000.000000   \n",
       "mean                      6.342990                   11.996020   \n",
       "std                       3.644942                    1.396826   \n",
       "min                       0.000000                   10.000000   \n",
       "25%                       4.000000                   11.000000   \n",
       "50%                       6.000000                   12.000000   \n",
       "75%                       9.000000                   13.000000   \n",
       "max                      14.000000                   14.000000   \n",
       "\n",
       "       Loan_Default_Risk  \n",
       "count      100000.000000  \n",
       "mean            0.129970  \n",
       "std             0.336272  \n",
       "min             0.000000  \n",
       "25%             0.000000  \n",
       "50%             0.000000  \n",
       "75%             0.000000  \n",
       "max             1.000000  "
      ]
     },
     "execution_count": 9,
     "metadata": {},
     "output_type": "execute_result"
    }
   ],
   "source": [
    "# how does data look like mathematically\n",
    "\n",
    "df.describe()"
   ]
  },
  {
   "cell_type": "code",
   "execution_count": 10,
   "metadata": {},
   "outputs": [
    {
     "data": {
      "text/plain": [
       "0"
      ]
     },
     "execution_count": 10,
     "metadata": {},
     "output_type": "execute_result"
    }
   ],
   "source": [
    "# duplicate values\n",
    "df.duplicated().sum()"
   ]
  },
  {
   "cell_type": "code",
   "execution_count": 11,
   "metadata": {},
   "outputs": [],
   "source": [
    "numerical_columns = df.describe().columns"
   ]
  },
  {
   "cell_type": "code",
   "execution_count": 12,
   "metadata": {},
   "outputs": [
    {
     "data": {
      "text/plain": [
       "Applicant_ID                  -0.021853\n",
       "Annual_Income                 -0.003692\n",
       "Applicant_Age                 -0.022074\n",
       "Work_Experience               -0.026859\n",
       "Years_in_Current_Employment   -0.004657\n",
       "Years_in_Current_Residence    -0.003838\n",
       "Loan_Default_Risk              1.000000\n",
       "Name: Loan_Default_Risk, dtype: float64"
      ]
     },
     "execution_count": 12,
     "metadata": {},
     "output_type": "execute_result"
    }
   ],
   "source": [
    "# correlation between the columns\n",
    "df[numerical_columns].corr()[\"Loan_Default_Risk\"]"
   ]
  },
  {
   "cell_type": "code",
   "execution_count": null,
   "metadata": {},
   "outputs": [],
   "source": []
  }
 ],
 "metadata": {
  "kernelspec": {
   "display_name": "env",
   "language": "python",
   "name": "python3"
  },
  "language_info": {
   "codemirror_mode": {
    "name": "ipython",
    "version": 3
   },
   "file_extension": ".py",
   "mimetype": "text/x-python",
   "name": "python",
   "nbconvert_exporter": "python",
   "pygments_lexer": "ipython3",
   "version": "3.10.0"
  }
 },
 "nbformat": 4,
 "nbformat_minor": 2
}
