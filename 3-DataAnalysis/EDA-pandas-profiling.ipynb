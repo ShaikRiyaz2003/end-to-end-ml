{
 "cells": [
  {
   "cell_type": "code",
   "execution_count": 1,
   "metadata": {},
   "outputs": [
    {
     "name": "stdout",
     "output_type": "stream",
     "text": [
      "Requirement already satisfied: ydata-profiling in d:\\inprogress\\ml\\env\\lib\\site-packages (4.6.4)\n",
      "Requirement already satisfied: pandas in d:\\inprogress\\ml\\env\\lib\\site-packages (2.2.0)\n",
      "Requirement already satisfied: wordcloud>=1.9.1 in d:\\inprogress\\ml\\env\\lib\\site-packages (from ydata-profiling) (1.9.3)\n",
      "Requirement already satisfied: imagehash==4.3.1 in d:\\inprogress\\ml\\env\\lib\\site-packages (from ydata-profiling) (4.3.1)\n",
      "Requirement already satisfied: PyYAML<6.1,>=5.0.0 in d:\\inprogress\\ml\\env\\lib\\site-packages (from ydata-profiling) (6.0.1)\n",
      "Requirement already satisfied: visions[type_image_path]==0.7.5 in d:\\inprogress\\ml\\env\\lib\\site-packages (from ydata-profiling) (0.7.5)\n",
      "Requirement already satisfied: matplotlib<3.9,>=3.2 in d:\\inprogress\\ml\\env\\lib\\site-packages (from ydata-profiling) (3.8.2)\n",
      "Requirement already satisfied: requests<3,>=2.24.0 in d:\\inprogress\\ml\\env\\lib\\site-packages (from ydata-profiling) (2.31.0)\n",
      "Requirement already satisfied: multimethod<2,>=1.4 in d:\\inprogress\\ml\\env\\lib\\site-packages (from ydata-profiling) (1.11.1)\n",
      "Requirement already satisfied: htmlmin==0.1.12 in d:\\inprogress\\ml\\env\\lib\\site-packages (from ydata-profiling) (0.1.12)\n",
      "Requirement already satisfied: scipy<1.12,>=1.4.1 in d:\\inprogress\\ml\\env\\lib\\site-packages (from ydata-profiling) (1.11.4)\n",
      "Requirement already satisfied: numpy<1.26,>=1.16.0 in d:\\inprogress\\ml\\env\\lib\\site-packages (from ydata-profiling) (1.25.2)\n",
      "Requirement already satisfied: tqdm<5,>=4.48.2 in d:\\inprogress\\ml\\env\\lib\\site-packages (from ydata-profiling) (4.66.2)\n",
      "Requirement already satisfied: seaborn<0.13,>=0.10.1 in d:\\inprogress\\ml\\env\\lib\\site-packages (from ydata-profiling) (0.12.2)\n",
      "Requirement already satisfied: statsmodels<1,>=0.13.2 in d:\\inprogress\\ml\\env\\lib\\site-packages (from ydata-profiling) (0.14.1)\n",
      "Requirement already satisfied: phik<0.13,>=0.11.1 in d:\\inprogress\\ml\\env\\lib\\site-packages (from ydata-profiling) (0.12.4)\n",
      "Requirement already satisfied: numba<0.59.0,>=0.56.0 in d:\\inprogress\\ml\\env\\lib\\site-packages (from ydata-profiling) (0.58.1)\n",
      "Requirement already satisfied: jinja2<3.2,>=2.11.1 in d:\\inprogress\\ml\\env\\lib\\site-packages (from ydata-profiling) (3.1.3)\n",
      "Requirement already satisfied: typeguard<5,>=4.1.2 in d:\\inprogress\\ml\\env\\lib\\site-packages (from ydata-profiling) (4.1.5)\n",
      "Requirement already satisfied: pydantic>=2 in d:\\inprogress\\ml\\env\\lib\\site-packages (from ydata-profiling) (2.6.1)\n",
      "Requirement already satisfied: dacite>=1.8 in d:\\inprogress\\ml\\env\\lib\\site-packages (from ydata-profiling) (1.8.1)\n",
      "Requirement already satisfied: PyWavelets in d:\\inprogress\\ml\\env\\lib\\site-packages (from imagehash==4.3.1->ydata-profiling) (1.5.0)\n",
      "Requirement already satisfied: pillow in d:\\inprogress\\ml\\env\\lib\\site-packages (from imagehash==4.3.1->ydata-profiling) (10.2.0)\n",
      "Requirement already satisfied: attrs>=19.3.0 in d:\\inprogress\\ml\\env\\lib\\site-packages (from visions[type_image_path]==0.7.5->ydata-profiling) (23.2.0)\n",
      "Requirement already satisfied: networkx>=2.4 in d:\\inprogress\\ml\\env\\lib\\site-packages (from visions[type_image_path]==0.7.5->ydata-profiling) (3.2.1)\n",
      "Requirement already satisfied: tangled-up-in-unicode>=0.0.4 in d:\\inprogress\\ml\\env\\lib\\site-packages (from visions[type_image_path]==0.7.5->ydata-profiling) (0.2.0)\n",
      "Requirement already satisfied: python-dateutil>=2.8.2 in d:\\inprogress\\ml\\env\\lib\\site-packages (from pandas) (2.8.2)\n",
      "Requirement already satisfied: pytz>=2020.1 in d:\\inprogress\\ml\\env\\lib\\site-packages (from pandas) (2024.1)\n",
      "Requirement already satisfied: tzdata>=2022.7 in d:\\inprogress\\ml\\env\\lib\\site-packages (from pandas) (2024.1)\n",
      "Requirement already satisfied: MarkupSafe>=2.0 in d:\\inprogress\\ml\\env\\lib\\site-packages (from jinja2<3.2,>=2.11.1->ydata-profiling) (2.1.5)\n",
      "Requirement already satisfied: cycler>=0.10 in d:\\inprogress\\ml\\env\\lib\\site-packages (from matplotlib<3.9,>=3.2->ydata-profiling) (0.12.1)\n",
      "Requirement already satisfied: kiwisolver>=1.3.1 in d:\\inprogress\\ml\\env\\lib\\site-packages (from matplotlib<3.9,>=3.2->ydata-profiling) (1.4.5)\n",
      "Requirement already satisfied: pyparsing>=2.3.1 in d:\\inprogress\\ml\\env\\lib\\site-packages (from matplotlib<3.9,>=3.2->ydata-profiling) (3.1.1)\n",
      "Requirement already satisfied: contourpy>=1.0.1 in d:\\inprogress\\ml\\env\\lib\\site-packages (from matplotlib<3.9,>=3.2->ydata-profiling) (1.2.0)\n",
      "Requirement already satisfied: packaging>=20.0 in d:\\inprogress\\ml\\env\\lib\\site-packages (from matplotlib<3.9,>=3.2->ydata-profiling) (23.2)\n",
      "Requirement already satisfied: fonttools>=4.22.0 in d:\\inprogress\\ml\\env\\lib\\site-packages (from matplotlib<3.9,>=3.2->ydata-profiling) (4.48.1)\n",
      "Requirement already satisfied: llvmlite<0.42,>=0.41.0dev0 in d:\\inprogress\\ml\\env\\lib\\site-packages (from numba<0.59.0,>=0.56.0->ydata-profiling) (0.41.1)\n",
      "Requirement already satisfied: joblib>=0.14.1 in d:\\inprogress\\ml\\env\\lib\\site-packages (from phik<0.13,>=0.11.1->ydata-profiling) (1.3.2)\n",
      "Requirement already satisfied: annotated-types>=0.4.0 in d:\\inprogress\\ml\\env\\lib\\site-packages (from pydantic>=2->ydata-profiling) (0.6.0)\n",
      "Requirement already satisfied: typing-extensions>=4.6.1 in d:\\inprogress\\ml\\env\\lib\\site-packages (from pydantic>=2->ydata-profiling) (4.9.0)\n",
      "Requirement already satisfied: pydantic-core==2.16.2 in d:\\inprogress\\ml\\env\\lib\\site-packages (from pydantic>=2->ydata-profiling) (2.16.2)\n",
      "Requirement already satisfied: six>=1.5 in d:\\inprogress\\ml\\env\\lib\\site-packages (from python-dateutil>=2.8.2->pandas) (1.16.0)\n",
      "Requirement already satisfied: urllib3<3,>=1.21.1 in d:\\inprogress\\ml\\env\\lib\\site-packages (from requests<3,>=2.24.0->ydata-profiling) (2.2.0)\n",
      "Requirement already satisfied: certifi>=2017.4.17 in d:\\inprogress\\ml\\env\\lib\\site-packages (from requests<3,>=2.24.0->ydata-profiling) (2024.2.2)\n",
      "Requirement already satisfied: idna<4,>=2.5 in d:\\inprogress\\ml\\env\\lib\\site-packages (from requests<3,>=2.24.0->ydata-profiling) (3.6)\n",
      "Requirement already satisfied: charset-normalizer<4,>=2 in d:\\inprogress\\ml\\env\\lib\\site-packages (from requests<3,>=2.24.0->ydata-profiling) (3.3.2)\n",
      "Requirement already satisfied: patsy>=0.5.4 in d:\\inprogress\\ml\\env\\lib\\site-packages (from statsmodels<1,>=0.13.2->ydata-profiling) (0.5.6)\n",
      "Requirement already satisfied: colorama in d:\\inprogress\\ml\\env\\lib\\site-packages (from tqdm<5,>=4.48.2->ydata-profiling) (0.4.6)\n",
      "Note: you may need to restart the kernel to use updated packages.\n"
     ]
    },
    {
     "name": "stderr",
     "output_type": "stream",
     "text": [
      "WARNING: You are using pip version 21.2.3; however, version 24.0 is available.\n",
      "You should consider upgrading via the 'd:\\InProgress\\ML\\env\\Scripts\\python.exe -m pip install --upgrade pip' command.\n"
     ]
    }
   ],
   "source": [
    "%pip install ydata-profiling pandas"
   ]
  },
  {
   "cell_type": "code",
   "execution_count": 2,
   "metadata": {},
   "outputs": [
    {
     "name": "stderr",
     "output_type": "stream",
     "text": [
      "d:\\InProgress\\ML\\env\\lib\\site-packages\\tqdm\\auto.py:21: TqdmWarning: IProgress not found. Please update jupyter and ipywidgets. See https://ipywidgets.readthedocs.io/en/stable/user_install.html\n",
      "  from .autonotebook import tqdm as notebook_tqdm\n"
     ]
    }
   ],
   "source": [
    "from ydata_profiling import ProfileReport\n",
    "import pandas as pd"
   ]
  },
  {
   "cell_type": "code",
   "execution_count": 3,
   "metadata": {},
   "outputs": [],
   "source": [
    "df = pd.read_csv(\"./titanic.csv\")"
   ]
  },
  {
   "cell_type": "code",
   "execution_count": 4,
   "metadata": {},
   "outputs": [],
   "source": [
    "prof = ProfileReport(df, title = \"Titanic Profile Report\")"
   ]
  },
  {
   "cell_type": "code",
   "execution_count": 5,
   "metadata": {},
   "outputs": [
    {
     "name": "stderr",
     "output_type": "stream",
     "text": [
      "Summarize dataset:  74%|███████▎  | 14/19 [00:00<00:00,  7.01it/s, Calculate auto correlation]  d:\\InProgress\\ML\\env\\lib\\site-packages\\ydata_profiling\\model\\correlations.py:66: UserWarning: There was an attempt to calculate the auto correlation, but this failed.\n",
      "To hide this warning, disable the calculation\n",
      "(using `df.profile_report(correlations={\"auto\": {\"calculate\": False}})`\n",
      "If this is problematic for your use case, please report this as an issue:\n",
      "https://github.com/ydataai/ydata-profiling/issues\n",
      "(include the error message: 'could not convert string to float: 'S'')\n",
      "  warnings.warn(\n",
      "Summarize dataset:  89%|████████▉ | 42/47 [00:03<00:00,  9.61it/s, Missing diagram heatmap]         d:\\InProgress\\ML\\env\\lib\\site-packages\\seaborn\\matrix.py:260: FutureWarning: Format strings passed to MaskedConstant are ignored, but in future may error or produce different behavior\n",
      "  annotation = (\"{:\" + self.fmt + \"}\").format(val)\n",
      "d:\\InProgress\\ML\\env\\lib\\site-packages\\ydata_profiling\\model\\missing.py:78: UserWarning: There was an attempt to generate the Heatmap missing values diagrams, but this failed.\n",
      "To hide this warning, disable the calculation\n",
      "(using `df.profile_report(missing_diagrams={\"Heatmap\": False}`)\n",
      "If this is problematic for your use case, please report this as an issue:\n",
      "https://github.com/ydataai/ydata-profiling/issues\n",
      "(include the error message: 'could not convert string to float: '--'')\n",
      "  warnings.warn(\n",
      "Summarize dataset: 100%|██████████| 47/47 [00:03<00:00, 12.68it/s, Completed]               \n",
      "Generate report structure: 100%|██████████| 1/1 [00:03<00:00,  3.76s/it]\n",
      "Render HTML: 100%|██████████| 1/1 [00:01<00:00,  1.36s/it]\n",
      "Export report to file: 100%|██████████| 1/1 [00:00<00:00, 199.96it/s]\n"
     ]
    }
   ],
   "source": [
    "prof.to_file(\"titanic.html\")"
   ]
  },
  {
   "cell_type": "code",
   "execution_count": null,
   "metadata": {},
   "outputs": [],
   "source": []
  }
 ],
 "metadata": {
  "kernelspec": {
   "display_name": "env",
   "language": "python",
   "name": "python3"
  },
  "language_info": {
   "codemirror_mode": {
    "name": "ipython",
    "version": 3
   },
   "file_extension": ".py",
   "mimetype": "text/x-python",
   "name": "python",
   "nbconvert_exporter": "python",
   "pygments_lexer": "ipython3",
   "version": "3.10.0"
  }
 },
 "nbformat": 4,
 "nbformat_minor": 2
}
